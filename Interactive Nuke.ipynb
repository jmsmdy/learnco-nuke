{
 "cells": [
  {
   "cell_type": "markdown",
   "metadata": {},
   "source": [
    "# Interactive Learn.co Backup and Nuke"
   ]
  },
  {
   "cell_type": "markdown",
   "metadata": {},
   "source": [
    "# <span style=\"color:blue\">Step 1</span>\n",
    "\n",
    "#### Before you begin, use the following instructions to create a personal access token on GitHub:\n",
    "https://help.github.com/en/github/authenticating-to-github/creating-a-personal-access-token-for-the-command-line\n",
    "\n",
    "#### Use the following settings for the Authorization Scope of the token:\n",
    "\n",
    "![](github-token-a.png)\n",
    "![](github-token-b.png)\n",
    "\n",
    "# <span style=\"color:blue\">Step 2</span>\n",
    "\n",
    "#### In the same directory as this Notebook, create a Python file, secrets.py, and in there create variables with the following values:\n",
    "\n",
    "    user = 'your_github_user_name'\n",
    "    token = 'your_access_token'\n",
    "\n",
    "#### Where \"your_github_user_name\" is replaced by your GitHub user name, and \"your_access_token\" is replaced by the personal access token you just generated."
   ]
  },
  {
   "cell_type": "code",
   "execution_count": null,
   "metadata": {},
   "outputs": [],
   "source": [
    "import requests\n",
    "import secrets\n",
    "import re\n",
    "import time\n",
    "import json\n",
    "import os"
   ]
  },
  {
   "cell_type": "code",
   "execution_count": null,
   "metadata": {},
   "outputs": [],
   "source": [
    "# Get first page of results for repo list\n",
    "headers = {'Authorization' : f'token {secrets.token}'}\n",
    "r = requests.get(f'https://api.github.com/user/repos', headers=headers)\n",
    "\n",
    "# Read response header to find total number of pages of results\n",
    "links = r.headers['Link'].split(',')\n",
    "last_page_link = [link for link in links if \"last\" in link][0]\n",
    "last_page_number = int(re.search(r'\\?page=(\\d+)', last_page_link).group(1))"
   ]
  },
  {
   "cell_type": "code",
   "execution_count": null,
   "metadata": {},
   "outputs": [],
   "source": [
    "results = []\n",
    "\n",
    "for i in range(1, last_page_number+1):\n",
    "    headers = {'Authorization' : f'token {secrets.token}'}\n",
    "    params = {'page' : i}\n",
    "    r = requests.get(f'https://api.github.com/user/repos', headers=headers, params=params)\n",
    "    time.sleep(1) # pause to avoid lockout\n",
    "    results += json.loads(r.content)"
   ]
  },
  {
   "cell_type": "markdown",
   "metadata": {},
   "source": [
    "# <span style=\"color:blue\">Step 3</span>\n",
    "\n",
    "#### Modify the following two lists below to match your Learn.co repositories. Most of them have a six-digit date code (the start-date of your cohort) which can be used to identify them."
   ]
  },
  {
   "cell_type": "code",
   "execution_count": null,
   "metadata": {},
   "outputs": [],
   "source": [
    "# We will grab all repos matching these substrings\n",
    "learnco_indicator_substrings = ['000', '082619', '100719']\n",
    "\n",
    "# We will ignore all repos matching these substrings\n",
    "exclusion_substrings = []"
   ]
  },
  {
   "cell_type": "code",
   "execution_count": null,
   "metadata": {},
   "outputs": [],
   "source": [
    "# Now let's filter for the Learn.co repos\n",
    "filter_func = lambda x: (x['full_name'].startswith(secrets.user) and not\n",
    "                        (len([s for s in exclusion_substrings if s in x['full_name']]) > 0) and\n",
    "                        (len([s for s in learnco_indicator_substrings if s in x['full_name']]) > 0))\n",
    "learnco_repos = list(filter(filter_func, results))\n",
    "\n",
    "# And print them out\n",
    "for repo in learnco_repos:\n",
    "    print(repo['full_name'])"
   ]
  },
  {
   "cell_type": "markdown",
   "metadata": {},
   "source": [
    "# <span style=\"color:red\">WARNING: BE CAREFUL IN THIS STEP</span>\n",
    "\n",
    "# <span style=\"color:blue\">Step 4</span> \n",
    "#### Before continuing, manually review the list of repos above, and verify that all of them are Learn.co repos. If not, Repeat Step 3 until only Learn.co repos are left in this list. <span style=\"color:red\">Every repo in the list above will be deleted from GitHub.</span> "
   ]
  },
  {
   "cell_type": "code",
   "execution_count": null,
   "metadata": {},
   "outputs": [],
   "source": [
    "def backup(repo_full_name):\n",
    "    working_dir = os.getcwd()\n",
    "    repo_name = repo_full_name.split('/')[-1]\n",
    "    repo_path = os.path.join(working_dir, 'BACKUP', repo_name)\n",
    "    upstream_url = f'https://github.com/{secrets.user}/{repo_name}.git'\n",
    "    \n",
    "    os.makedirs(repo_path)\n",
    "    exit_code_a = os.system(f'git clone --mirror {upstream_url} {os.path.join(repo_path, \".git\")}')\n",
    "    os.chdir(repo_path)\n",
    "    exit_code_b = os.system('git config --bool core.bare false')\n",
    "    exit_code_c = os.system('git checkout master')\n",
    "    os.chdir(working_dir)\n",
    "    \n",
    "    if exit_code_a or exit_code_b or exit_code_c:\n",
    "        print(f'Backing up {repo_full_name} failed!')\n",
    "        return False\n",
    "    else:\n",
    "        return True\n",
    "              \n",
    "def delete_repo(repo_full_name):\n",
    "    repo_name = repo_full_name.split('/')[-1]\n",
    "    repo_url = f'https://api.github.com/repos/{secrets.user}/{repo_name}'\n",
    "    headers = {'Authorization' : f'token {secrets.token}'}\n",
    "    return requests.delete(repo_url, headers=headers)\n",
    "                            \n",
    "def backup_and_delete_repo(repo_full_name):\n",
    "    successful = backup(repo_full_name)\n",
    "    if successful:\n",
    "        delete_repo(repo_full_name)\n",
    "        print(f'Repo {repo_full_name} backed up and deleted.')\n",
    "    else:\n",
    "        print(f'Repo {repo_full_name} not deleted.')"
   ]
  },
  {
   "cell_type": "markdown",
   "metadata": {},
   "source": [
    "# <span style=\"color:blue\">Step 5</span>\n",
    "\n",
    "#### Run the below command to backup and delete all repos in the list above. Keep an eye out for errors (you may need to manually intervene)."
   ]
  },
  {
   "cell_type": "code",
   "execution_count": null,
   "metadata": {
    "scrolled": true
   },
   "outputs": [],
   "source": [
    "for repo in learnco_repos:\n",
    "    backup_and_delete_repo(repo['full_name'])"
   ]
  }
 ],
 "metadata": {
  "kernelspec": {
   "display_name": "Python 3",
   "language": "python",
   "name": "python3"
  },
  "language_info": {
   "codemirror_mode": {
    "name": "ipython",
    "version": 3
   },
   "file_extension": ".py",
   "mimetype": "text/x-python",
   "name": "python",
   "nbconvert_exporter": "python",
   "pygments_lexer": "ipython3",
   "version": "3.7.3"
  }
 },
 "nbformat": 4,
 "nbformat_minor": 2
}
