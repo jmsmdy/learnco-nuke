{
 "cells": [
  {
   "cell_type": "markdown",
   "metadata": {},
   "source": [
    "# Interactive Learn.co Backup and Nuke"
   ]
  },
  {
   "cell_type": "markdown",
   "metadata": {},
   "source": [
    "## Step 1\n",
    "\n",
    "Before you begin, use the following instructions to create a personal access token on GitHub:\n",
    "https://help.github.com/en/github/authenticating-to-github/creating-a-personal-access-token-for-the-command-line\n",
    "\n",
    "Use the following settings for the Authorization Scope of the token:\n",
    "\n",
    "![](github-token-a.png)\n",
    "![](github-token-b.png)\n",
    "\n",
    "## Step 2\n",
    "\n",
    "In the same directory as this Notebook, create a Python file, secrets.py, and in there create a variable with the following value:\n",
    "\n",
    "    token = 'your_access_token'\n",
    "\n",
    "Where \"your_access_token\" is replaced by the personal access token you just generated."
   ]
  },
  {
   "cell_type": "code",
   "execution_count": null,
   "metadata": {},
   "outputs": [],
   "source": [
    "import requests\n",
    "import secrets\n",
    "import re\n",
    "import time\n",
    "import json"
   ]
  },
  {
   "cell_type": "code",
   "execution_count": null,
   "metadata": {},
   "outputs": [],
   "source": [
    "# Get first page of results for repo list\n",
    "headers = {'Authorization' : f'token {secrets.token}'}\n",
    "r = requests.get(f'https://api.github.com/user/repos', headers=headers)\n",
    "\n",
    "# Read response header to find total number of pages of results\n",
    "links = r.headers['Link'].split(',')\n",
    "last_page_link = [link for link in links if \"last\" in link][0]\n",
    "last_page_number = int(re.search(r'\\?page=(\\d+)', last_page_link).group(1))"
   ]
  },
  {
   "cell_type": "code",
   "execution_count": null,
   "metadata": {},
   "outputs": [],
   "source": [
    "results = []\n",
    "\n",
    "for i in range(1, last_page_number+1):\n",
    "    headers = {'Authorization' : f'token {secrets.token}'}\n",
    "    params = {'page' : i}\n",
    "    r = requests.get(f'https://api.github.com/user/repos', headers=headers, params=params)\n",
    "    time.sleep(1) # pause to avoid lockout\n",
    "    results += json.loads(r.content)"
   ]
  },
  {
   "cell_type": "code",
   "execution_count": null,
   "metadata": {},
   "outputs": [],
   "source": [
    "# We will grab all repos maching these substrings\n",
    "learnco_indicator_substrings = ['000', '082619', '100719']\n",
    "\n",
    "# Now let's filter for the Learn.co repos\n",
    "filter_func = lambda x: len([s for s in learnco_indicator_substrings if s in x['full_name']]) > 0\n",
    "learnco_repos = filter(filter_func, results)\n",
    "\n",
    "# And print them out\n",
    "for repo in learnco_repos:\n",
    "    print(repo['full_name'])"
   ]
  },
  {
   "cell_type": "markdown",
   "metadata": {},
   "source": [
    "# <span style=\"color:red\">WARNING</span>\n",
    "\n",
    "## Step 3: Before continuuing, manually review the list of repos above, and verify that all of them are Learn.co repos. <span style=\"color:red\">Every repo in the list above will be deleted from GitHub.</span>"
   ]
  },
  {
   "cell_type": "code",
   "execution_count": null,
   "metadata": {},
   "outputs": [],
   "source": []
  }
 ],
 "metadata": {
  "kernelspec": {
   "display_name": "Python 3",
   "language": "python",
   "name": "python3"
  },
  "language_info": {
   "codemirror_mode": {
    "name": "ipython",
    "version": 3
   },
   "file_extension": ".py",
   "mimetype": "text/x-python",
   "name": "python",
   "nbconvert_exporter": "python",
   "pygments_lexer": "ipython3",
   "version": "3.7.3"
  }
 },
 "nbformat": 4,
 "nbformat_minor": 2
}
